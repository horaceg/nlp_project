{
 "cells": [
  {
   "cell_type": "markdown",
   "metadata": {},
   "source": [
    "# Deep Learning for NLP - Project"
   ]
  },
  {
   "cell_type": "markdown",
   "metadata": {},
   "source": [
    "RULES:\n",
    "\n",
    "* Do not create any additional cell\n",
    "\n",
    "* Fill in the blanks\n",
    "\n",
    "* All cells should be runnable (modulo trivial compatibility bugs that we'd fix)\n",
    "\n",
    "* 4 / 20 points will be allocated to the clarity of your code\n",
    "\n",
    "* Efficient code will have a bonus\n",
    "\n",
    "DELIVERABLE:\n",
    "\n",
    "* the pdf with your answers\n",
    "* this notebook\n",
    "* the predictions of the SST test set\n",
    "\n",
    "DO NOT INCLUDE THE DATASETS IN THE DELIVERABLE.."
   ]
  },
  {
   "cell_type": "code",
   "execution_count": 34,
   "metadata": {
    "jupyter": {
     "outputs_hidden": false
    }
   },
   "outputs": [],
   "source": [
    "# Python 3.6 or above is required\n",
    "from collections import defaultdict\n",
    "import gzip\n",
    "import numpy as np\n",
    "from pathlib import Path\n",
    "from urllib.request import urlretrieve\n",
    "from itertools import chain\n",
    "from tqdm.notebook import tqdm\n",
    "import pandas as pd"
   ]
  },
  {
   "cell_type": "code",
   "execution_count": 2,
   "metadata": {},
   "outputs": [],
   "source": [
    "PATH_TO_DATA = Path('data/')\n",
    "# Download word vectors, might take a few minutes and about ~3GB of storage space\n",
    "en_embeddings_path = PATH_TO_DATA / 'cc.en.300.vec.gz'\n",
    "if not en_embeddings_path.exists():\n",
    "    urlretrieve('https://dl.fbaipublicfiles.com/fasttext/vectors-crawl/cc.en.300.vec.gz', en_embeddings_path)\n",
    "fr_embeddings_path = PATH_TO_DATA / 'cc.fr.300.vec.gz'\n",
    "if not fr_embeddings_path.exists():\n",
    "    urlretrieve('https://dl.fbaipublicfiles.com/fasttext/vectors-crawl/cc.fr.300.vec.gz', fr_embeddings_path)"
   ]
  },
  {
   "cell_type": "markdown",
   "metadata": {},
   "source": [
    "# 1) Monolingual (English) word embeddings "
   ]
  },
  {
   "cell_type": "code",
   "execution_count": 12,
   "metadata": {},
   "outputs": [],
   "source": [
    "class Word2Vec():\n",
    "\n",
    "    def __init__(self, filepath, vocab_size=50000):\n",
    "        self.words, self.embeddings = self.load_wordvec(filepath, vocab_size)\n",
    "        self.words_set = set(self.words)\n",
    "        # Mappings for O(1) retrieval:\n",
    "        self.word2id = {word: idx for idx, word in enumerate(self.words)}\n",
    "        self.id2word = {idx: word for idx, word in enumerate(self.words)}\n",
    "    \n",
    "    def load_wordvec(self, filepath, vocab_size):\n",
    "        assert str(filepath).endswith('.gz')\n",
    "        words = []\n",
    "        embeddings = []\n",
    "        with gzip.open(filepath, 'rt', encoding=\"utf8\") as f:  # Read compressed file directly\n",
    "            next(f)  # Skip header\n",
    "            for i, line in enumerate(f):\n",
    "                word, vec = line.split(' ', 1)\n",
    "                words.append(word)\n",
    "                embeddings.append(np.fromstring(vec, sep=' '))\n",
    "                if i == (vocab_size - 1):\n",
    "                    break\n",
    "        print('Loaded %s pretrained word vectors' % (len(words)))\n",
    "        return words, np.vstack(embeddings)\n",
    "    \n",
    "    def encode(self, word):\n",
    "        # Returns the 1D embedding of a given word\n",
    "        wid = self.word2id[word]\n",
    "        return self.embeddings[wid]\n",
    "    \n",
    "    def score(self, word1, word2):\n",
    "        # Return the cosine similarity: use np.dot & np.linalg.norm\n",
    "        vec1 = self.encode(word1)\n",
    "        vec2 = self.encode(word2)\n",
    "        norms = np.linalg.norm(vec1) * np.linalg.norm(vec2)\n",
    "        score = np.dot(vec1, vec2) / norms\n",
    "        return score\n",
    "    \n",
    "    def most_similar(self, word, k=5):\n",
    "        # Returns the k most similar words: self.score & np.argsort\n",
    "        scores = np.array([self.score(word, word2) for word2 in self.words])\n",
    "        top = np.argsort(scores)[::-1][:k]\n",
    "        return [self.id2word[i] for i in top]"
   ]
  },
  {
   "cell_type": "code",
   "execution_count": 13,
   "metadata": {
    "jupyter": {
     "outputs_hidden": false
    },
    "scrolled": true
   },
   "outputs": [
    {
     "name": "stdout",
     "output_type": "stream",
     "text": [
      "Loaded 50000 pretrained word vectors\n",
      "cat tree 0.26449754661654756\n",
      "cat dog 0.7078641298542564\n",
      "cat pet 0.6753313359976382\n",
      "Paris France 0.6892958925806543\n",
      "Paris Germany 0.4051242286737549\n",
      "Paris baguette 0.29399958277802224\n",
      "Paris donut -0.006588507552348003\n",
      "cat ['cat', 'cats', 'kitty', 'kitten', 'feline']\n",
      "dog ['dog', 'dogs', 'puppy', 'pup', 'canine']\n",
      "dogs ['dogs', 'dog', 'cats', 'puppies', 'Dogs']\n",
      "Paris ['Paris', 'France', 'Parisian', 'Marseille', 'Brussels']\n",
      "Germany ['Germany', 'Austria', 'Europe', 'Berlin', 'Hamburg']\n"
     ]
    }
   ],
   "source": [
    "word2vec = Word2Vec(en_embeddings_path, vocab_size=50000)\n",
    "\n",
    "# You will be evaluated on the output of the following:\n",
    "for word1, word2 in zip(('cat', 'cat', 'cat', 'Paris', 'Paris', 'Paris', 'Paris'), ('tree', 'dog', 'pet', 'France', 'Germany', 'baguette', 'donut')):\n",
    "    print(word1, word2, word2vec.score(word1, word2))\n",
    "for word in ['cat', 'dog', 'dogs', 'Paris', 'Germany']:\n",
    "    print(word, word2vec.most_similar(word))"
   ]
  },
  {
   "cell_type": "code",
   "execution_count": 17,
   "metadata": {
    "jupyter": {
     "outputs_hidden": false
    }
   },
   "outputs": [],
   "source": [
    "class BagOfWords:\n",
    "    def __init__(self, word2vec):\n",
    "        self.word2vec = word2vec\n",
    "    \n",
    "    def build_idf(self, sentences):\n",
    "        # build the idf dictionary: associate each word to its idf value\n",
    "        # -> idf = {word: idf_value, ...}\n",
    "        def df(word, sentences_set):\n",
    "            return sum([word in s for s in sentences_set])\n",
    "        \n",
    "        idfs = dict()\n",
    "        nb_sentences = len(sentences)\n",
    "        sentences_set = [set(s.split()) for s in sentences]\n",
    "        words_in_sentences = set(chain(*sentences_set))\n",
    "        for word in tqdm(words_in_sentences):\n",
    "            idfs[word] = np.log(nb_sentences / (1 + df(word, sentences_set)))\n",
    "\n",
    "        for word in self.word2vec.words_set.difference(words_in_sentences):\n",
    "            idfs[word] = 0\n",
    "        return idfs\n",
    "    \n",
    "    def encode(self, sentence, idf=None):\n",
    "        # Takes a sentence as input, returns the sentence embedding\n",
    "        if idf is None:\n",
    "            # mean of word vectors\n",
    "            encoded_words = [self.word2vec.encode(w) \n",
    "                             for w in sentence.split() \n",
    "                             if w in self.word2vec.words_set]\n",
    "        else:\n",
    "            # idf-weighted mean of word vectors\n",
    "            encoded_words = [idf[w]*self.word2vec.encode(w)\n",
    "                             for w in sentence.split()\n",
    "                             if w in self.word2vec.words_set]\n",
    "        vec = np.mean(encoded_words, axis=0)\n",
    "        if len(vec) == 0:\n",
    "            return np.zeros(self.word2vec.embeddings.shape[1])\n",
    "        else:\n",
    "            return vec\n",
    "\n",
    "    def score(self, sentence1, sentence2, idf=None):\n",
    "        # cosine similarity: use np.dot & np.linalg.norm\n",
    "        vec1 = self.encode(sentence1, idf=idf)\n",
    "        vec2 = self.encode(sentence2, idf=idf)\n",
    "        return np.dot(vec1, vec2) / (np.linalg.norm(vec1)* np.linalg.norm(vec2))\n",
    "   \n",
    "    def most_similar(self, sentence, sentences, idf=None, k=5):\n",
    "        # Return most similar sentences\n",
    "        query = self.encode(sentence, idf)\n",
    "        keys = np.vstack([self.encode(sentence, idf=idf) for sentence in sentences])\n",
    "        scores = np.dot(keys, query) / (np.linalg.norm(query) * np.linalg.norm(keys, axis=1))\n",
    "        top_ix = np.argsort(scores)[::-1][:k]\n",
    "        return np.array(sentences)[top_ix]"
   ]
  },
  {
   "cell_type": "code",
   "execution_count": 18,
   "metadata": {
    "jupyter": {
     "outputs_hidden": false
    }
   },
   "outputs": [
    {
     "name": "stdout",
     "output_type": "stream",
     "text": [
      "Loaded 50000 pretrained word vectors\n"
     ]
    }
   ],
   "source": [
    "word2vec = Word2Vec(en_embeddings_path, vocab_size=50000)\n",
    "sentence2vec = BagOfWords(word2vec)\n",
    "\n",
    "# Load sentences in \"PATH_TO_DATA/sentences.txt\"\n",
    "filepath = PATH_TO_DATA / 'sentences.txt'\n",
    "with open(filepath, 'r') as f:\n",
    "    sentences = [line.strip('\\n') for line in f]"
   ]
  },
  {
   "cell_type": "code",
   "execution_count": 20,
   "metadata": {
    "jupyter": {
     "outputs_hidden": false
    },
    "scrolled": true
   },
   "outputs": [
    {
     "name": "stdout",
     "output_type": "stream",
     "text": [
      "\n",
      "\tAverage of word embeddings\n",
      "1 man singing and 1 man playing a saxophone in a concert . \n",
      "10 people venture out to go crosscountry skiing . \n",
      "0.7065220648251475\n",
      "1 smiling african american boy . \n",
      "1) 1 smiling african american boy . \n",
      "2) 2 woman dancing while pointing . \n",
      "3) 5 women and 1 man are smiling for the camera . \n",
      "4) a small boy following 4 geese . \n",
      "5) 2 female babies eating chips . \n"
     ]
    },
    {
     "data": {
      "application/vnd.jupyter.widget-view+json": {
       "model_id": "70df1cbe3d4e47f69a61843c70089dc6",
       "version_major": 2,
       "version_minor": 0
      },
      "text/plain": [
       "HBox(children=(FloatProgress(value=0.0, max=19976.0), HTML(value='')))"
      ]
     },
     "metadata": {},
     "output_type": "display_data"
    },
    {
     "name": "stdout",
     "output_type": "stream",
     "text": [
      "\n",
      "\n",
      "\tidf weighted average of word embeddings\n",
      "1 man singing and 1 man playing a saxophone in a concert . \n",
      "10 people venture out to go crosscountry skiing . \n",
      "0.6400773156424754\n",
      "2 female babies eating chips . \n",
      "1) 2 female babies eating chips . \n",
      "2) 2 kids holding hands and smiling . \n",
      "3) 2 chinese people wearing traditional clothes \n",
      "4) five children , 3 boys and 2 girls playing soccer in a grass field . \n",
      "5) 3 couples in white clothes are playing piggyback . \n"
     ]
    }
   ],
   "source": [
    "# You will be evaluated on the output of the following:\n",
    "print('\\n\\tAverage of word embeddings')\n",
    "sentence1 = sentences[7]\n",
    "sentence2 = sentences[13]\n",
    "print(sentence1)\n",
    "print(sentence2)\n",
    "print(sentence2vec.score(sentence1, sentence2))\n",
    "sentence = sentences[10]\n",
    "\n",
    "similar_sentences = sentence2vec.most_similar(sentence, sentences)  # BagOfWords-mean\n",
    "print(sentence)\n",
    "for i, sentence in enumerate(similar_sentences):\n",
    "    print(str(i+1) + ')', sentence)\n",
    "\n",
    "# Build idf scores for each word\n",
    "# takes approx 8 min\n",
    "idf = sentence2vec.build_idf(sentences)\n",
    "print('\\n\\tidf weighted average of word embeddings')\n",
    "print(sentence1)\n",
    "print(sentence2)\n",
    "print(sentence2vec.score(sentence1, sentence2, idf))\n",
    "similar_sentences = sentence2vec.most_similar(sentence, sentences, idf)  # BagOfWords-idf\n",
    "print(sentence)\n",
    "for i, sentence in enumerate(similar_sentences):\n",
    "    print(str(i+1) + ')', sentence)"
   ]
  },
  {
   "cell_type": "markdown",
   "metadata": {},
   "source": [
    "# 2) Multilingual (English-French) word embeddings"
   ]
  },
  {
   "cell_type": "markdown",
   "metadata": {},
   "source": [
    "Let's consider a bilingual dictionary of size V_a (e.g French-English).\n",
    "\n",
    "Let's define **X** and **Y** the **French** and **English** matrices.\n",
    "\n",
    "They contain the embeddings associated to the words in the bilingual dictionary.\n",
    "\n",
    "We want to find a **mapping W** that will project the source word space (e.g French) to the target word space (e.g English).\n",
    "\n",
    "Procrustes : **W\\* = argmin || W.X - Y ||  s.t  W^T.W = Id**\n",
    "has a closed form solution:\n",
    "**W = U.V^T  where  U.Sig.V^T = SVD(Y.X^T)**\n",
    "\n",
    "In what follows, you are asked to: "
   ]
  },
  {
   "cell_type": "code",
   "execution_count": 21,
   "metadata": {},
   "outputs": [],
   "source": [
    "class MultilingualWordAligner:\n",
    "    \n",
    "    def __init__(self, fr_word2vec, en_word2vec):\n",
    "        self.fr_word2vec = fr_word2vec\n",
    "        self.en_word2vec = en_word2vec\n",
    "        self.aligned_fr_embeddings = self.get_aligned_fr_embeddings()\n",
    "        \n",
    "    def get_aligned_fr_embeddings(self):\n",
    "        # 1 - Get words that appear in both vocabs (= identical character strings)\n",
    "        #     Use it to create the matrix X (emb_dim, vocab_size) and Y (emb_dim, vocab_size) (of embeddings for these words)\n",
    "        both_vocabs = set(self.fr_word2vec.words).intersection(self.en_word2vec.words)\n",
    "        X = np.vstack([fr_word2vec.encode(w) for w in both_vocabs]).T\n",
    "        Y = np.vstack([en_word2vec.encode(w) for w in both_vocabs]).T\n",
    "        assert X.shape[0] == 300 and Y.shape[0] == 300\n",
    "        \n",
    "        # 2 - Solve the Procrustes using the numpy package and: np.linalg.svd() and get the optimal W\n",
    "        #     Now self.fr_word2vec.embeddings * W.transpose() is in the same space as en_word2vec.embeddings\n",
    "        u, s, vh = np.linalg.svd(np.matmul(Y, X.T))\n",
    "        W = np.matmul(u, vh)\n",
    "        assert W.shape == (300, 300)\n",
    "        return np.matmul(self.fr_word2vec.embeddings, W.transpose())\n",
    "        \n",
    "    def get_closest_english_words(self, fr_word, k=3):\n",
    "        # 3 - Return the top k English nearest neighbors to the input French word\n",
    "        wid = self.fr_word2vec.word2id[fr_word]\n",
    "        vec = self.aligned_fr_embeddings[wid]\n",
    "        norms = np.linalg.norm(vec) * np.linalg.norm(self.en_word2vec.embeddings, axis=1)\n",
    "        scores = np.dot(self.en_word2vec.embeddings, vec) / norms\n",
    "        top = np.argsort(scores)[::-1][:k]\n",
    "        return [self.en_word2vec.id2word[i] for i in top]\n"
   ]
  },
  {
   "cell_type": "code",
   "execution_count": 22,
   "metadata": {
    "scrolled": true
   },
   "outputs": [
    {
     "name": "stdout",
     "output_type": "stream",
     "text": [
      "Loaded 50000 pretrained word vectors\n",
      "Loaded 50000 pretrained word vectors\n",
      "----------\n",
      "fr: \"chat\"\n",
      "en: \"cat\"\n",
      "en: \"kitten\"\n",
      "en: \"kitty\"\n",
      "----------\n",
      "fr: \"chien\"\n",
      "en: \"dog\"\n",
      "en: \"cat\"\n",
      "en: \"pet\"\n",
      "----------\n",
      "fr: \"voiture\"\n",
      "en: \"car\"\n",
      "en: \"vehicle\"\n",
      "en: \"automobile\"\n",
      "----------\n",
      "fr: \"zut\"\n",
      "en: \"oops\"\n",
      "en: \"Ah\"\n",
      "en: \"ah\"\n"
     ]
    }
   ],
   "source": [
    "fr_word2vec = Word2Vec(fr_embeddings_path, vocab_size=50000)\n",
    "en_word2vec = Word2Vec(en_embeddings_path, vocab_size=50000)\n",
    "multilingual_word_aligner = MultilingualWordAligner(fr_word2vec, en_word2vec)\n",
    "\n",
    "# You will be evaluated on the output of the following:\n",
    "fr_words = ['chat', 'chien', 'voiture', 'zut']\n",
    "k = 3\n",
    "for fr_word in fr_words:\n",
    "    print('-' * 10)\n",
    "    print(f'fr: \"{fr_word}\"')\n",
    "    en_words = multilingual_word_aligner.get_closest_english_words(fr_word, k=3)\n",
    "    for en_word in en_words:\n",
    "        print(f'en: \"{en_word}\"')"
   ]
  },
  {
   "cell_type": "markdown",
   "metadata": {},
   "source": [
    "If you want to dive deeper on this subject: https://github.com/facebookresearch/MUSE"
   ]
  },
  {
   "cell_type": "markdown",
   "metadata": {},
   "source": [
    "# 3) Sentence classification with BoV and scikit-learn"
   ]
  },
  {
   "cell_type": "code",
   "execution_count": 23,
   "metadata": {
    "scrolled": false
   },
   "outputs": [],
   "source": [
    "# 1 - Load train/dev/test of Stanford Sentiment TreeBank (SST)\n",
    "#     (https://nlp.stanford.edu/~socherr/EMNLP2013_RNTN.pdf)\n",
    "train_filepath = PATH_TO_DATA / 'SST/stsa.fine.train'\n",
    "dev_filepath = PATH_TO_DATA / 'SST/stsa.fine.dev'\n",
    "test_filepath = PATH_TO_DATA / 'SST/stsa.fine.test.X'\n",
    "\n",
    "def load_traindata(filepath):\n",
    "    with open(filepath, 'r') as f:\n",
    "        train_lines = f.readlines()\n",
    "    y = np.empty(len(train_lines))\n",
    "    sentences = []\n",
    "    for i, line in enumerate(train_lines):\n",
    "        num, sent = line.split(\" \", 1)\n",
    "        y[i] = num\n",
    "        sentences.append(sent.strip())\n",
    "    return sentences, y\n",
    "\n",
    "def load_testdata(filepath):\n",
    "    with open(filepath, 'r') as f:\n",
    "        test_lines = f.readlines()\n",
    "    test_sent = []\n",
    "    for i, line in enumerate(test_lines):\n",
    "        test_sent.append(line.strip())\n",
    "    return test_sent\n",
    "\n",
    "train_sent, y_train = load_traindata(train_filepath)\n",
    "dev_sent, y_dev = load_traindata(dev_filepath)\n",
    "test_sent = load_testdata(test_filepath)"
   ]
  },
  {
   "cell_type": "code",
   "execution_count": 24,
   "metadata": {},
   "outputs": [
    {
     "name": "stdout",
     "output_type": "stream",
     "text": [
      "8544\n"
     ]
    }
   ],
   "source": [
    "print(len(train_sent))"
   ]
  },
  {
   "cell_type": "code",
   "execution_count": 25,
   "metadata": {},
   "outputs": [
    {
     "data": {
      "text/plain": [
       "1101"
      ]
     },
     "execution_count": 25,
     "metadata": {},
     "output_type": "execute_result"
    }
   ],
   "source": [
    "len(dev_sent)"
   ]
  },
  {
   "cell_type": "code",
   "execution_count": 26,
   "metadata": {},
   "outputs": [
    {
     "data": {
      "text/plain": [
       "2210"
      ]
     },
     "execution_count": 26,
     "metadata": {},
     "output_type": "execute_result"
    }
   ],
   "source": [
    "len(test_sent)"
   ]
  },
  {
   "cell_type": "code",
   "execution_count": 28,
   "metadata": {},
   "outputs": [
    {
     "name": "stdout",
     "output_type": "stream",
     "text": [
      "Loaded 50000 pretrained word vectors\n"
     ]
    }
   ],
   "source": [
    "# 2 - Encode sentences with the BoV model above\n",
    "\n",
    "word2vec = Word2Vec(en_embeddings_path)\n",
    "sent2vec = BagOfWords(word2vec)"
   ]
  },
  {
   "cell_type": "code",
   "execution_count": 29,
   "metadata": {},
   "outputs": [
    {
     "name": "stdout",
     "output_type": "stream",
     "text": [
      "Accuracy on the dev set 0.3887375113533152\n"
     ]
    },
    {
     "name": "stderr",
     "output_type": "stream",
     "text": [
      "C:\\Users\\Horace\\Miniconda3\\lib\\site-packages\\sklearn\\linear_model\\logistic.py:758: ConvergenceWarning: lbfgs failed to converge. Increase the number of iterations.\n",
      "  \"of iterations.\", ConvergenceWarning)\n"
     ]
    }
   ],
   "source": [
    "# 3 - Learn Logistic Regression on top of sentence embeddings using scikit-learn\n",
    "#     (consider tuning the L2 regularization on the dev set)\n",
    "#     In the paper, the accuracy for average of word vectors is 32.7%\n",
    "#     (VecAvg, table 1, https://nlp.stanford.edu/~socherr/EMNLP2013_RNTN.pdf)\n",
    "from sklearn.linear_model import LogisticRegression\n",
    "from sklearn.metrics.scorer import accuracy_scorer\n",
    "\n",
    "lr = LogisticRegression(solver='lbfgs', multi_class='auto')\n",
    "X_train = [sent2vec.encode(s) for s in train_sent]\n",
    "X_dev = [sent2vec.encode(s) for s in dev_sent]\n",
    "lr.fit(X_train, y_train)\n",
    "accuracy_dev = accuracy_scorer(lr, X_dev, y_dev)\n",
    "print(\"Accuracy on the dev set\", accuracy_dev)"
   ]
  },
  {
   "cell_type": "code",
   "execution_count": 31,
   "metadata": {},
   "outputs": [
    {
     "name": "stderr",
     "output_type": "stream",
     "text": [
      "C:\\Users\\Horace\\Miniconda3\\lib\\site-packages\\sklearn\\linear_model\\logistic.py:758: ConvergenceWarning: lbfgs failed to converge. Increase the number of iterations.\n",
      "  \"of iterations.\", ConvergenceWarning)\n"
     ]
    }
   ],
   "source": [
    "# 4 - Produce 2210 predictions for the test set (in the same order). One line = one prediction (=0,1,2,3,4).\n",
    "#     Attach the output file \"logreg_bov_y_test_sst.txt\" to your deliverable.\n",
    "#     You will be evaluated on the results of the test set.\n",
    "train_dev_sent = train_sent + dev_sent\n",
    "sent2vec = BagOfWords(word2vec)\n",
    "X_tr_dev = [sent2vec.encode(s) for s in train_dev_sent]\n",
    "\n",
    "y_tr_dev = np.hstack((y_train, y_dev))\n",
    "lr.fit(X_tr_dev, y_tr_dev)\n",
    "X_test = [sent2vec.encode(s) for s in test_sent]\n",
    "pred = lr.predict(X_test)\n",
    "\n",
    "pred_path = 'logreg_bov_y_test_sst.txt'\n",
    "with open(pred_path, 'w') as f:\n",
    "    f.writelines('\\n'.join([str(int(p)) for p in pred]))"
   ]
  },
  {
   "cell_type": "code",
   "execution_count": 32,
   "metadata": {},
   "outputs": [
    {
     "data": {
      "text/plain": [
       "GridSearchCV(cv=3, error_score='raise-deprecating',\n",
       "       estimator=RandomForestClassifier(bootstrap=True, class_weight=None, criterion='gini',\n",
       "            max_depth=None, max_features='auto', max_leaf_nodes=None,\n",
       "            min_impurity_decrease=0.0, min_impurity_split=None,\n",
       "            min_samples_leaf=1, min_samples_split=2,\n",
       "            min_weight_fraction_leaf=0.0, n_estimators=100, n_jobs=-1,\n",
       "            oob_score=False, random_state=None, verbose=0,\n",
       "            warm_start=False),\n",
       "       fit_params=None, iid='warn', n_jobs=None,\n",
       "       param_grid={'min_samples_split': [2, 3, 5, 7], 'min_samples_leaf': [1, 2, 3, 4, 5], 'max_depth': [2, 4, 6, 8]},\n",
       "       pre_dispatch='2*n_jobs', refit=True, return_train_score='warn',\n",
       "       scoring=None, verbose=0)"
      ]
     },
     "execution_count": 32,
     "metadata": {},
     "output_type": "execute_result"
    }
   ],
   "source": [
    "# BONUS!\n",
    "# 5 - Try to improve performance with another classifier\n",
    "#     Attach the output file \"XXX_bov_y_test_sst.txt\" to your deliverable (where XXX = the name of the classifier)\n",
    "from sklearn.ensemble import RandomForestClassifier\n",
    "from sklearn.model_selection import GridSearchCV\n",
    "\n",
    "rf = RandomForestClassifier(min_samples_split=2, \n",
    "                            min_samples_leaf=1,\n",
    "                            n_estimators=100, \n",
    "                            n_jobs=-1)\n",
    "grid = {\n",
    "    'min_samples_split': [2, 3, 5, 7],\n",
    "    'min_samples_leaf': [1, 2, 3, 4, 5], \n",
    "    'max_depth': [2, 4, 6, 8]\n",
    "}\n",
    "\n",
    "search = GridSearchCV(rf, grid, cv=3)\n",
    "search.fit(X_tr_dev, y_tr_dev)"
   ]
  },
  {
   "cell_type": "code",
   "execution_count": 35,
   "metadata": {},
   "outputs": [
    {
     "name": "stderr",
     "output_type": "stream",
     "text": [
      "C:\\Users\\Horace\\Miniconda3\\lib\\site-packages\\sklearn\\utils\\deprecation.py:125: FutureWarning: You are accessing a training score ('split0_train_score'), which will not be available by default any more in 0.21. If you need training scores, please set return_train_score=True\n",
      "  warnings.warn(*warn_args, **warn_kwargs)\n",
      "C:\\Users\\Horace\\Miniconda3\\lib\\site-packages\\sklearn\\utils\\deprecation.py:125: FutureWarning: You are accessing a training score ('split1_train_score'), which will not be available by default any more in 0.21. If you need training scores, please set return_train_score=True\n",
      "  warnings.warn(*warn_args, **warn_kwargs)\n",
      "C:\\Users\\Horace\\Miniconda3\\lib\\site-packages\\sklearn\\utils\\deprecation.py:125: FutureWarning: You are accessing a training score ('split2_train_score'), which will not be available by default any more in 0.21. If you need training scores, please set return_train_score=True\n",
      "  warnings.warn(*warn_args, **warn_kwargs)\n",
      "C:\\Users\\Horace\\Miniconda3\\lib\\site-packages\\sklearn\\utils\\deprecation.py:125: FutureWarning: You are accessing a training score ('mean_train_score'), which will not be available by default any more in 0.21. If you need training scores, please set return_train_score=True\n",
      "  warnings.warn(*warn_args, **warn_kwargs)\n",
      "C:\\Users\\Horace\\Miniconda3\\lib\\site-packages\\sklearn\\utils\\deprecation.py:125: FutureWarning: You are accessing a training score ('std_train_score'), which will not be available by default any more in 0.21. If you need training scores, please set return_train_score=True\n",
      "  warnings.warn(*warn_args, **warn_kwargs)\n"
     ]
    },
    {
     "data": {
      "text/html": [
       "<div>\n",
       "<style scoped>\n",
       "    .dataframe tbody tr th:only-of-type {\n",
       "        vertical-align: middle;\n",
       "    }\n",
       "\n",
       "    .dataframe tbody tr th {\n",
       "        vertical-align: top;\n",
       "    }\n",
       "\n",
       "    .dataframe thead th {\n",
       "        text-align: right;\n",
       "    }\n",
       "</style>\n",
       "<table border=\"1\" class=\"dataframe\">\n",
       "  <thead>\n",
       "    <tr style=\"text-align: right;\">\n",
       "      <th></th>\n",
       "      <th>mean_fit_time</th>\n",
       "      <th>std_fit_time</th>\n",
       "      <th>mean_score_time</th>\n",
       "      <th>std_score_time</th>\n",
       "      <th>param_max_depth</th>\n",
       "      <th>param_min_samples_leaf</th>\n",
       "      <th>param_min_samples_split</th>\n",
       "      <th>params</th>\n",
       "      <th>split0_test_score</th>\n",
       "      <th>split1_test_score</th>\n",
       "      <th>split2_test_score</th>\n",
       "      <th>mean_test_score</th>\n",
       "      <th>std_test_score</th>\n",
       "      <th>rank_test_score</th>\n",
       "      <th>split0_train_score</th>\n",
       "      <th>split1_train_score</th>\n",
       "      <th>split2_train_score</th>\n",
       "      <th>mean_train_score</th>\n",
       "      <th>std_train_score</th>\n",
       "    </tr>\n",
       "  </thead>\n",
       "  <tbody>\n",
       "    <tr>\n",
       "      <th>0</th>\n",
       "      <td>2.551896</td>\n",
       "      <td>1.918895</td>\n",
       "      <td>0.124998</td>\n",
       "      <td>6.329952e-06</td>\n",
       "      <td>2</td>\n",
       "      <td>1</td>\n",
       "      <td>2</td>\n",
       "      <td>{'max_depth': 2, 'min_samples_leaf': 1, 'min_s...</td>\n",
       "      <td>0.316755</td>\n",
       "      <td>0.321928</td>\n",
       "      <td>0.336757</td>\n",
       "      <td>0.325143</td>\n",
       "      <td>0.008476</td>\n",
       "      <td>64</td>\n",
       "      <td>0.340386</td>\n",
       "      <td>0.342613</td>\n",
       "      <td>0.341573</td>\n",
       "      <td>0.341524</td>\n",
       "      <td>0.000910</td>\n",
       "    </tr>\n",
       "    <tr>\n",
       "      <th>1</th>\n",
       "      <td>1.312391</td>\n",
       "      <td>0.077594</td>\n",
       "      <td>0.135413</td>\n",
       "      <td>7.358447e-03</td>\n",
       "      <td>2</td>\n",
       "      <td>1</td>\n",
       "      <td>3</td>\n",
       "      <td>{'max_depth': 2, 'min_samples_leaf': 1, 'min_s...</td>\n",
       "      <td>0.323593</td>\n",
       "      <td>0.322862</td>\n",
       "      <td>0.335823</td>\n",
       "      <td>0.327424</td>\n",
       "      <td>0.005944</td>\n",
       "      <td>61</td>\n",
       "      <td>0.343030</td>\n",
       "      <td>0.341835</td>\n",
       "      <td>0.339708</td>\n",
       "      <td>0.341524</td>\n",
       "      <td>0.001374</td>\n",
       "    </tr>\n",
       "    <tr>\n",
       "      <th>2</th>\n",
       "      <td>1.301976</td>\n",
       "      <td>0.014726</td>\n",
       "      <td>0.124997</td>\n",
       "      <td>7.377719e-06</td>\n",
       "      <td>2</td>\n",
       "      <td>1</td>\n",
       "      <td>5</td>\n",
       "      <td>{'max_depth': 2, 'min_samples_leaf': 1, 'min_s...</td>\n",
       "      <td>0.319242</td>\n",
       "      <td>0.325350</td>\n",
       "      <td>0.328354</td>\n",
       "      <td>0.324313</td>\n",
       "      <td>0.003792</td>\n",
       "      <td>68</td>\n",
       "      <td>0.341475</td>\n",
       "      <td>0.340280</td>\n",
       "      <td>0.339241</td>\n",
       "      <td>0.340332</td>\n",
       "      <td>0.000913</td>\n",
       "    </tr>\n",
       "    <tr>\n",
       "      <th>3</th>\n",
       "      <td>1.296784</td>\n",
       "      <td>0.022096</td>\n",
       "      <td>0.124993</td>\n",
       "      <td>1.259237e-05</td>\n",
       "      <td>2</td>\n",
       "      <td>1</td>\n",
       "      <td>7</td>\n",
       "      <td>{'max_depth': 2, 'min_samples_leaf': 1, 'min_s...</td>\n",
       "      <td>0.312714</td>\n",
       "      <td>0.322551</td>\n",
       "      <td>0.329287</td>\n",
       "      <td>0.321514</td>\n",
       "      <td>0.006806</td>\n",
       "      <td>78</td>\n",
       "      <td>0.343808</td>\n",
       "      <td>0.337170</td>\n",
       "      <td>0.339241</td>\n",
       "      <td>0.340073</td>\n",
       "      <td>0.002773</td>\n",
       "    </tr>\n",
       "    <tr>\n",
       "      <th>4</th>\n",
       "      <td>1.260322</td>\n",
       "      <td>0.014723</td>\n",
       "      <td>0.124991</td>\n",
       "      <td>1.367303e-06</td>\n",
       "      <td>2</td>\n",
       "      <td>2</td>\n",
       "      <td>2</td>\n",
       "      <td>{'max_depth': 2, 'min_samples_leaf': 2, 'min_s...</td>\n",
       "      <td>0.315511</td>\n",
       "      <td>0.325661</td>\n",
       "      <td>0.332088</td>\n",
       "      <td>0.324417</td>\n",
       "      <td>0.006824</td>\n",
       "      <td>67</td>\n",
       "      <td>0.340853</td>\n",
       "      <td>0.342613</td>\n",
       "      <td>0.337376</td>\n",
       "      <td>0.340280</td>\n",
       "      <td>0.002176</td>\n",
       "    </tr>\n",
       "    <tr>\n",
       "      <th>...</th>\n",
       "      <td>...</td>\n",
       "      <td>...</td>\n",
       "      <td>...</td>\n",
       "      <td>...</td>\n",
       "      <td>...</td>\n",
       "      <td>...</td>\n",
       "      <td>...</td>\n",
       "      <td>...</td>\n",
       "      <td>...</td>\n",
       "      <td>...</td>\n",
       "      <td>...</td>\n",
       "      <td>...</td>\n",
       "      <td>...</td>\n",
       "      <td>...</td>\n",
       "      <td>...</td>\n",
       "      <td>...</td>\n",
       "      <td>...</td>\n",
       "      <td>...</td>\n",
       "      <td>...</td>\n",
       "    </tr>\n",
       "    <tr>\n",
       "      <th>75</th>\n",
       "      <td>4.530926</td>\n",
       "      <td>1.160870</td>\n",
       "      <td>0.161447</td>\n",
       "      <td>5.155655e-02</td>\n",
       "      <td>8</td>\n",
       "      <td>4</td>\n",
       "      <td>7</td>\n",
       "      <td>{'max_depth': 8, 'min_samples_leaf': 4, 'min_s...</td>\n",
       "      <td>0.354057</td>\n",
       "      <td>0.349300</td>\n",
       "      <td>0.362589</td>\n",
       "      <td>0.355314</td>\n",
       "      <td>0.005497</td>\n",
       "      <td>8</td>\n",
       "      <td>0.615744</td>\n",
       "      <td>0.626439</td>\n",
       "      <td>0.640547</td>\n",
       "      <td>0.627576</td>\n",
       "      <td>0.010158</td>\n",
       "    </tr>\n",
       "    <tr>\n",
       "      <th>76</th>\n",
       "      <td>4.520513</td>\n",
       "      <td>0.757324</td>\n",
       "      <td>0.130200</td>\n",
       "      <td>7.365864e-03</td>\n",
       "      <td>8</td>\n",
       "      <td>5</td>\n",
       "      <td>2</td>\n",
       "      <td>{'max_depth': 8, 'min_samples_leaf': 5, 'min_s...</td>\n",
       "      <td>0.350948</td>\n",
       "      <td>0.345257</td>\n",
       "      <td>0.354497</td>\n",
       "      <td>0.350233</td>\n",
       "      <td>0.003806</td>\n",
       "      <td>22</td>\n",
       "      <td>0.592719</td>\n",
       "      <td>0.614774</td>\n",
       "      <td>0.635106</td>\n",
       "      <td>0.614200</td>\n",
       "      <td>0.017309</td>\n",
       "    </tr>\n",
       "    <tr>\n",
       "      <th>77</th>\n",
       "      <td>3.926802</td>\n",
       "      <td>0.109984</td>\n",
       "      <td>0.140614</td>\n",
       "      <td>6.836514e-07</td>\n",
       "      <td>8</td>\n",
       "      <td>5</td>\n",
       "      <td>3</td>\n",
       "      <td>{'max_depth': 8, 'min_samples_leaf': 5, 'min_s...</td>\n",
       "      <td>0.352813</td>\n",
       "      <td>0.357387</td>\n",
       "      <td>0.356054</td>\n",
       "      <td>0.355417</td>\n",
       "      <td>0.001921</td>\n",
       "      <td>7</td>\n",
       "      <td>0.598320</td>\n",
       "      <td>0.614152</td>\n",
       "      <td>0.630752</td>\n",
       "      <td>0.614408</td>\n",
       "      <td>0.013242</td>\n",
       "    </tr>\n",
       "    <tr>\n",
       "      <th>78</th>\n",
       "      <td>3.822645</td>\n",
       "      <td>0.115048</td>\n",
       "      <td>0.124992</td>\n",
       "      <td>6.836514e-07</td>\n",
       "      <td>8</td>\n",
       "      <td>5</td>\n",
       "      <td>5</td>\n",
       "      <td>{'max_depth': 8, 'min_samples_leaf': 5, 'min_s...</td>\n",
       "      <td>0.349083</td>\n",
       "      <td>0.350233</td>\n",
       "      <td>0.356054</td>\n",
       "      <td>0.351788</td>\n",
       "      <td>0.003051</td>\n",
       "      <td>18</td>\n",
       "      <td>0.591475</td>\n",
       "      <td>0.617574</td>\n",
       "      <td>0.631374</td>\n",
       "      <td>0.613474</td>\n",
       "      <td>0.016545</td>\n",
       "    </tr>\n",
       "    <tr>\n",
       "      <th>79</th>\n",
       "      <td>3.728902</td>\n",
       "      <td>0.032104</td>\n",
       "      <td>0.130199</td>\n",
       "      <td>7.365021e-03</td>\n",
       "      <td>8</td>\n",
       "      <td>5</td>\n",
       "      <td>7</td>\n",
       "      <td>{'max_depth': 8, 'min_samples_leaf': 5, 'min_s...</td>\n",
       "      <td>0.353124</td>\n",
       "      <td>0.355210</td>\n",
       "      <td>0.356054</td>\n",
       "      <td>0.354795</td>\n",
       "      <td>0.001231</td>\n",
       "      <td>9</td>\n",
       "      <td>0.606876</td>\n",
       "      <td>0.607621</td>\n",
       "      <td>0.632152</td>\n",
       "      <td>0.615549</td>\n",
       "      <td>0.011744</td>\n",
       "    </tr>\n",
       "  </tbody>\n",
       "</table>\n",
       "<p>80 rows × 19 columns</p>\n",
       "</div>"
      ],
      "text/plain": [
       "    mean_fit_time  std_fit_time  mean_score_time  std_score_time  \\\n",
       "0        2.551896      1.918895         0.124998    6.329952e-06   \n",
       "1        1.312391      0.077594         0.135413    7.358447e-03   \n",
       "2        1.301976      0.014726         0.124997    7.377719e-06   \n",
       "3        1.296784      0.022096         0.124993    1.259237e-05   \n",
       "4        1.260322      0.014723         0.124991    1.367303e-06   \n",
       "..            ...           ...              ...             ...   \n",
       "75       4.530926      1.160870         0.161447    5.155655e-02   \n",
       "76       4.520513      0.757324         0.130200    7.365864e-03   \n",
       "77       3.926802      0.109984         0.140614    6.836514e-07   \n",
       "78       3.822645      0.115048         0.124992    6.836514e-07   \n",
       "79       3.728902      0.032104         0.130199    7.365021e-03   \n",
       "\n",
       "   param_max_depth param_min_samples_leaf param_min_samples_split  \\\n",
       "0                2                      1                       2   \n",
       "1                2                      1                       3   \n",
       "2                2                      1                       5   \n",
       "3                2                      1                       7   \n",
       "4                2                      2                       2   \n",
       "..             ...                    ...                     ...   \n",
       "75               8                      4                       7   \n",
       "76               8                      5                       2   \n",
       "77               8                      5                       3   \n",
       "78               8                      5                       5   \n",
       "79               8                      5                       7   \n",
       "\n",
       "                                               params  split0_test_score  \\\n",
       "0   {'max_depth': 2, 'min_samples_leaf': 1, 'min_s...           0.316755   \n",
       "1   {'max_depth': 2, 'min_samples_leaf': 1, 'min_s...           0.323593   \n",
       "2   {'max_depth': 2, 'min_samples_leaf': 1, 'min_s...           0.319242   \n",
       "3   {'max_depth': 2, 'min_samples_leaf': 1, 'min_s...           0.312714   \n",
       "4   {'max_depth': 2, 'min_samples_leaf': 2, 'min_s...           0.315511   \n",
       "..                                                ...                ...   \n",
       "75  {'max_depth': 8, 'min_samples_leaf': 4, 'min_s...           0.354057   \n",
       "76  {'max_depth': 8, 'min_samples_leaf': 5, 'min_s...           0.350948   \n",
       "77  {'max_depth': 8, 'min_samples_leaf': 5, 'min_s...           0.352813   \n",
       "78  {'max_depth': 8, 'min_samples_leaf': 5, 'min_s...           0.349083   \n",
       "79  {'max_depth': 8, 'min_samples_leaf': 5, 'min_s...           0.353124   \n",
       "\n",
       "    split1_test_score  split2_test_score  mean_test_score  std_test_score  \\\n",
       "0            0.321928           0.336757         0.325143        0.008476   \n",
       "1            0.322862           0.335823         0.327424        0.005944   \n",
       "2            0.325350           0.328354         0.324313        0.003792   \n",
       "3            0.322551           0.329287         0.321514        0.006806   \n",
       "4            0.325661           0.332088         0.324417        0.006824   \n",
       "..                ...                ...              ...             ...   \n",
       "75           0.349300           0.362589         0.355314        0.005497   \n",
       "76           0.345257           0.354497         0.350233        0.003806   \n",
       "77           0.357387           0.356054         0.355417        0.001921   \n",
       "78           0.350233           0.356054         0.351788        0.003051   \n",
       "79           0.355210           0.356054         0.354795        0.001231   \n",
       "\n",
       "    rank_test_score  split0_train_score  split1_train_score  \\\n",
       "0                64            0.340386            0.342613   \n",
       "1                61            0.343030            0.341835   \n",
       "2                68            0.341475            0.340280   \n",
       "3                78            0.343808            0.337170   \n",
       "4                67            0.340853            0.342613   \n",
       "..              ...                 ...                 ...   \n",
       "75                8            0.615744            0.626439   \n",
       "76               22            0.592719            0.614774   \n",
       "77                7            0.598320            0.614152   \n",
       "78               18            0.591475            0.617574   \n",
       "79                9            0.606876            0.607621   \n",
       "\n",
       "    split2_train_score  mean_train_score  std_train_score  \n",
       "0             0.341573          0.341524         0.000910  \n",
       "1             0.339708          0.341524         0.001374  \n",
       "2             0.339241          0.340332         0.000913  \n",
       "3             0.339241          0.340073         0.002773  \n",
       "4             0.337376          0.340280         0.002176  \n",
       "..                 ...               ...              ...  \n",
       "75            0.640547          0.627576         0.010158  \n",
       "76            0.635106          0.614200         0.017309  \n",
       "77            0.630752          0.614408         0.013242  \n",
       "78            0.631374          0.613474         0.016545  \n",
       "79            0.632152          0.615549         0.011744  \n",
       "\n",
       "[80 rows x 19 columns]"
      ]
     },
     "execution_count": 35,
     "metadata": {},
     "output_type": "execute_result"
    }
   ],
   "source": [
    "pd.DataFrame(search.cv_results_)"
   ]
  },
  {
   "cell_type": "markdown",
   "metadata": {},
   "source": [
    "# 4) Sentence classification with LSTMs in Keras"
   ]
  },
  {
   "cell_type": "markdown",
   "metadata": {},
   "source": [
    "## 4.1 - Preprocessing"
   ]
  },
  {
   "cell_type": "code",
   "execution_count": 36,
   "metadata": {
    "jupyter": {
     "outputs_hidden": false
    }
   },
   "outputs": [],
   "source": [
    "import tensorflow as tf"
   ]
  },
  {
   "cell_type": "code",
   "execution_count": 37,
   "metadata": {},
   "outputs": [],
   "source": [
    "# 1 - Using the same dataset, transform text to integers using tf.keras.preprocessing.text.one_hot function\n",
    "#     https://keras.io/preprocessing/text/\n",
    "\n",
    "one_hot = tf.keras.preprocessing.text.one_hot\n",
    "train_sent_int = [one_hot(sent, 50_000) for sent in train_sent]\n",
    "dev_sent_int = [one_hot(sent, 50_000) for sent in dev_sent]\n",
    "test_sent_int = [one_hot(sent, 50_000) for sent in test_sent]"
   ]
  },
  {
   "cell_type": "markdown",
   "metadata": {},
   "source": [
    "**Padding input data**\n",
    "\n",
    "Models in Keras (and elsewhere) take batches of sentences of the same length as input. It is because Deep Learning framework have been designed to handle well Tensors, which are particularly suited for fast computation on the GPU.\n",
    "\n",
    "Since sentences have different sizes, we \"pad\" them. That is, we add dummy \"padding\" tokens so that they all have the same length.\n",
    "\n",
    "The input to a Keras model thus has this size : (batchsize, maxseqlen) where maxseqlen is the maximum length of a sentence in the batch."
   ]
  },
  {
   "cell_type": "code",
   "execution_count": 38,
   "metadata": {},
   "outputs": [],
   "source": [
    "# 2 - Pad your sequences using tf.keras.preprocessing.sequence.pad_sequences\n",
    "#     https://keras.io/preprocessing/sequence/\n",
    "MAXLEN = 50\n",
    "pad_sequences = tf.keras.preprocessing.sequence.pad_sequences\n",
    "train_sent_pad = pad_sequences(train_sent_int, MAXLEN)\n",
    "dev_sent_pad = pad_sequences(dev_sent_int, MAXLEN)\n",
    "test_sent_pad = pad_sequences(test_sent_int, MAXLEN)"
   ]
  },
  {
   "cell_type": "markdown",
   "metadata": {},
   "source": [
    "## 4.2 - Design and train your model"
   ]
  },
  {
   "cell_type": "code",
   "execution_count": 39,
   "metadata": {},
   "outputs": [],
   "source": [
    "# 3 - Design your encoder + classifier using tensorflow.keras.layers\n",
    "#     In Keras, Torch and other deep learning framework, we create a \"container\" which is the Sequential() module.\n",
    "#     Then we add components to this container : the lookup-table, the LSTM, the classifier etc.\n",
    "#     All of these components are contained in the Sequential() and are trained together.\n",
    "#     Note that the embedding layer is initialized randomly and does not take advantage of pre-trained word embeddings.\n",
    "\n",
    "\n",
    "# ADAPT CODE BELOW\n",
    "\n",
    "\n",
    "from tensorflow.keras.models import Sequential\n",
    "from tensorflow.keras.layers import Embedding, LSTM, Dense, Activation\n",
    "\n",
    "embed_dim  = 32  # word embedding dimension\n",
    "nhid       = 64  # number of hidden units in the LSTM\n",
    "vocab_size = 50000  # size of the vocabulary\n",
    "n_classes  = 5\n",
    "\n",
    "model = Sequential()\n",
    "model.add(Embedding(vocab_size, embed_dim))\n",
    "model.add(LSTM(nhid, dropout=0.2, recurrent_dropout=0.2))\n",
    "model.add(Dense(n_classes, activation='sigmoid'))"
   ]
  },
  {
   "cell_type": "code",
   "execution_count": 40,
   "metadata": {
    "jupyter": {
     "outputs_hidden": false
    }
   },
   "outputs": [
    {
     "name": "stdout",
     "output_type": "stream",
     "text": [
      "_________________________________________________________________\n",
      "Layer (type)                 Output Shape              Param #   \n",
      "=================================================================\n",
      "embedding (Embedding)        (None, None, 32)          1600000   \n",
      "_________________________________________________________________\n",
      "lstm (LSTM)                  (None, 64)                24832     \n",
      "_________________________________________________________________\n",
      "dense (Dense)                (None, 5)                 325       \n",
      "=================================================================\n",
      "Total params: 1,625,157\n",
      "Trainable params: 1,625,157\n",
      "Non-trainable params: 0\n",
      "_________________________________________________________________\n",
      "None\n"
     ]
    }
   ],
   "source": [
    "# 4 - Define your loss/optimizer/metrics\n",
    "\n",
    "# MODIFY CODE BELOW\n",
    "\n",
    "loss_classif     =  'categorical_crossentropy' # find the right loss for multi-class classification\n",
    "optimizer        =  'Adam' # find the right optimizer\n",
    "metrics_classif  =  ['accuracy']\n",
    "\n",
    "# Observe how easy (but blackboxed) this is in Keras\n",
    "model.compile(loss=loss_classif,\n",
    "              optimizer=optimizer,\n",
    "              metrics=metrics_classif)\n",
    "print(model.summary())"
   ]
  },
  {
   "cell_type": "code",
   "execution_count": 41,
   "metadata": {},
   "outputs": [
    {
     "name": "stdout",
     "output_type": "stream",
     "text": [
      "WARNING:tensorflow:The `nb_epoch` argument in `fit` has been renamed `epochs`.\n"
     ]
    },
    {
     "name": "stderr",
     "output_type": "stream",
     "text": [
      "C:\\Users\\Horace\\Miniconda3\\lib\\site-packages\\sklearn\\preprocessing\\_encoders.py:331: DeprecationWarning: Passing 'n_values' is deprecated in version 0.20 and will be removed in 0.22. You can use the 'categories' keyword instead. 'n_values=n' corresponds to 'categories=[range(n)]'.\n",
      "  warnings.warn(msg, DeprecationWarning)\n",
      "C:\\Users\\Horace\\Miniconda3\\lib\\site-packages\\tensorflow\\python\\ops\\gradients_impl.py:100: UserWarning: Converting sparse IndexedSlices to a dense Tensor of unknown shape. This may consume a large amount of memory.\n",
      "  \"Converting sparse IndexedSlices to a dense Tensor of unknown shape. \"\n"
     ]
    },
    {
     "name": "stdout",
     "output_type": "stream",
     "text": [
      "Train on 8544 samples, validate on 1101 samples\n",
      "Epoch 1/6\n",
      "8544/8544 [==============================] - 18s 2ms/step - loss: 1.5726 - acc: 0.2658 - val_loss: 1.5718 - val_acc: 0.2534\n",
      "Epoch 2/6\n",
      "8544/8544 [==============================] - 14s 2ms/step - loss: 1.5669 - acc: 0.2719 - val_loss: 1.5727 - val_acc: 0.2589\n",
      "Epoch 3/6\n",
      "8544/8544 [==============================] - 14s 2ms/step - loss: 1.5614 - acc: 0.2786 - val_loss: 1.5630 - val_acc: 0.2934\n",
      "Epoch 4/6\n",
      "8544/8544 [==============================] - 14s 2ms/step - loss: 1.5450 - acc: 0.2923 - val_loss: 1.5512 - val_acc: 0.2934\n",
      "Epoch 5/6\n",
      "8544/8544 [==============================] - 14s 2ms/step - loss: 1.5052 - acc: 0.3337 - val_loss: 1.5236 - val_acc: 0.3124\n",
      "Epoch 6/6\n",
      "8544/8544 [==============================] - 14s 2ms/step - loss: 1.4365 - acc: 0.3711 - val_loss: 1.5035 - val_acc: 0.3351\n"
     ]
    }
   ],
   "source": [
    "# 5 - Train your model and find the best hyperparameters for your dev set\n",
    "#     you will be evaluated on the quality of your predictions on the test set\n",
    "#     Keras expects y_train and y_dev to be one-hot encodings of the labels, i.e. with shape=(n_samples, 5)\n",
    "from sklearn.preprocessing import OneHotEncoder\n",
    "\n",
    "x_train = train_sent_pad\n",
    "x_dev = dev_sent_pad\n",
    "enc = OneHotEncoder(n_values=5)\n",
    "y_tr = enc.fit_transform(y_train.reshape(-1, 1))\n",
    "y_dv = enc.transform(y_dev.reshape(-1, 1))\n",
    "# ADAPT CODE BELOW\n",
    "bs = 64\n",
    "n_epochs = 6\n",
    "\n",
    "history = model.fit(x_train, y_tr, batch_size=bs, nb_epoch=n_epochs, validation_data=(x_dev, y_dv))"
   ]
  },
  {
   "cell_type": "code",
   "execution_count": 42,
   "metadata": {},
   "outputs": [],
   "source": [
    "# 6 - Generate your predictions on the test set using model.predict(x_test)\n",
    "#     https://keras.io/models/model/\n",
    "#     Log your predictions in a file (one line = one integer: 0,1,2,3,4)\n",
    "#     Attach the output file \"logreg_lstm_y_test_sst.txt\" to your deliverable.\n",
    "\n",
    "pred = model.predict_classes(test_sent_pad)\n",
    "\n",
    "pred_path = 'logreg_lstm_y_test_sst.txt'\n",
    "with open(pred_path, 'w') as f:\n",
    "    f.writelines('\\n'.join([str(int(p)) for p in pred]))"
   ]
  },
  {
   "cell_type": "markdown",
   "metadata": {},
   "source": [
    "## 4.3 - innovate !"
   ]
  },
  {
   "cell_type": "code",
   "execution_count": 44,
   "metadata": {},
   "outputs": [
    {
     "ename": "TypeError",
     "evalue": "__init__() missing 1 required positional argument: 'kernel_size'",
     "output_type": "error",
     "traceback": [
      "\u001b[1;31m---------------------------------------------------------------------------\u001b[0m",
      "\u001b[1;31mTypeError\u001b[0m                                 Traceback (most recent call last)",
      "\u001b[1;32m<ipython-input-44-f67dcfea4d30>\u001b[0m in \u001b[0;36m<module>\u001b[1;34m()\u001b[0m\n\u001b[0;32m     14\u001b[0m \u001b[0mmodel\u001b[0m \u001b[1;33m=\u001b[0m \u001b[0mSequential\u001b[0m\u001b[1;33m(\u001b[0m\u001b[1;33m)\u001b[0m\u001b[1;33m\u001b[0m\u001b[0m\n\u001b[0;32m     15\u001b[0m \u001b[0mmodel\u001b[0m\u001b[1;33m.\u001b[0m\u001b[0madd\u001b[0m\u001b[1;33m(\u001b[0m\u001b[0mEmbedding\u001b[0m\u001b[1;33m(\u001b[0m\u001b[0mvocab_size\u001b[0m\u001b[1;33m,\u001b[0m \u001b[0membed_dim\u001b[0m\u001b[1;33m)\u001b[0m\u001b[1;33m)\u001b[0m\u001b[1;33m\u001b[0m\u001b[0m\n\u001b[1;32m---> 16\u001b[1;33m \u001b[0mmodel\u001b[0m\u001b[1;33m.\u001b[0m\u001b[0madd\u001b[0m\u001b[1;33m(\u001b[0m\u001b[0mConv1D\u001b[0m\u001b[1;33m(\u001b[0m\u001b[0mnhid\u001b[0m\u001b[1;33m,\u001b[0m \u001b[0mdropout\u001b[0m\u001b[1;33m=\u001b[0m\u001b[1;36m0.2\u001b[0m\u001b[1;33m,\u001b[0m \u001b[0mrecurrent_dropout\u001b[0m\u001b[1;33m=\u001b[0m\u001b[1;36m0.2\u001b[0m\u001b[1;33m)\u001b[0m\u001b[1;33m)\u001b[0m\u001b[1;33m\u001b[0m\u001b[0m\n\u001b[0m\u001b[0;32m     17\u001b[0m \u001b[0mmodel\u001b[0m\u001b[1;33m.\u001b[0m\u001b[0madd\u001b[0m\u001b[1;33m(\u001b[0m\u001b[0mDense\u001b[0m\u001b[1;33m(\u001b[0m\u001b[0mn_classes\u001b[0m\u001b[1;33m,\u001b[0m \u001b[0mactivation\u001b[0m\u001b[1;33m=\u001b[0m\u001b[1;34m'sigmoid'\u001b[0m\u001b[1;33m)\u001b[0m\u001b[1;33m)\u001b[0m\u001b[1;33m\u001b[0m\u001b[0m\n",
      "\u001b[1;31mTypeError\u001b[0m: __init__() missing 1 required positional argument: 'kernel_size'"
     ]
    }
   ],
   "source": [
    "# 7 - Open question: find a model that is better on your dev set\n",
    "#     (e.g: use a 1D ConvNet, use a better classifier, pretrain your lookup tables ..)\n",
    "#     you will get point if the results on the test set are better: be careful of not overfitting your dev set too much..\n",
    "#     Attach the output file \"XXX_XXX_y_test_sst.txt\" to your deliverable.\n",
    "\n",
    "from tensorflow.keras.models import Sequential\n",
    "from tensorflow.keras.layers import Embedding, LSTM, Dense, Activation, Conv1D\n",
    "\n",
    "embed_dim  = 32  # word embedding dimension\n",
    "nhid       = 64  # number of hidden units in the LSTM\n",
    "vocab_size = 50000  # size of the vocabulary\n",
    "n_classes  = 5\n",
    "\n",
    "model = Sequential()\n",
    "model.add(Embedding(vocab_size, embed_dim))\n",
    "model.add(Conv1D(, dropout=0.2, recurrent_dropout=0.2))\n",
    "model.add(Dense(n_classes, activation='sigmoid'))"
   ]
  },
  {
   "cell_type": "code",
   "execution_count": null,
   "metadata": {},
   "outputs": [],
   "source": [
    "loss_classif     =  'categorical_crossentropy' # find the right loss for multi-class classification\n",
    "optimizer        =  'Adam' # find the right optimizer\n",
    "metrics_classif  =  ['accuracy']\n",
    "\n",
    "# Observe how easy (but blackboxed) this is in Keras\n",
    "model.compile(loss=loss_classif,\n",
    "              optimizer=optimizer,\n",
    "              metrics=metrics_classif)\n",
    "print(model.summary())"
   ]
  },
  {
   "cell_type": "code",
   "execution_count": null,
   "metadata": {},
   "outputs": [],
   "source": [
    "# 5 - Train your model and find the best hyperparameters for your dev set\n",
    "#     you will be evaluated on the quality of your predictions on the test set\n",
    "#     Keras expects y_train and y_dev to be one-hot encodings of the labels, i.e. with shape=(n_samples, 5)\n",
    "from sklearn.preprocessing import OneHotEncoder\n",
    "\n",
    "x_train = train_sent_pad\n",
    "x_dev = dev_sent_pad\n",
    "enc = OneHotEncoder(n_values=5)\n",
    "y_tr = enc.fit_transform(y_train.reshape(-1, 1))\n",
    "y_dv = enc.transform(y_dev.reshape(-1, 1))\n",
    "# ADAPT CODE BELOW\n",
    "bs = 64\n",
    "n_epochs = 6\n",
    "\n",
    "history = model.fit(x_train, y_tr, batch_size=bs, nb_epoch=n_epochs, validation_data=(x_dev, y_dv))"
   ]
  }
 ],
 "metadata": {
  "kernelspec": {
   "display_name": "Python 3",
   "language": "python",
   "name": "python3"
  },
  "language_info": {
   "codemirror_mode": {
    "name": "ipython",
    "version": 3
   },
   "file_extension": ".py",
   "mimetype": "text/x-python",
   "name": "python",
   "nbconvert_exporter": "python",
   "pygments_lexer": "ipython3",
   "version": "3.6.6"
  }
 },
 "nbformat": 4,
 "nbformat_minor": 4
}
